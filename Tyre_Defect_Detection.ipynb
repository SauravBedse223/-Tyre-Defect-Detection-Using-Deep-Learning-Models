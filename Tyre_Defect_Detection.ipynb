{
  "cells": [
    {
      "cell_type": "code",
      "execution_count": null,
      "metadata": {
        "colab": {
          "base_uri": "https://localhost:8080/"
        },
        "id": "YQAErTuVq4lN",
        "outputId": "ae4a80cb-897f-4d84-fb74-cdede40c1222"
      },
      "outputs": [
        {
          "name": "stdout",
          "output_type": "stream",
          "text": [
            "Mounted at /content/drive\n"
          ]
        }
      ],
      "source": [
        "from google.colab import drive\n",
        "drive.mount('/content/drive')"
      ]
    },
    {
      "cell_type": "code",
      "execution_count": null,
      "metadata": {
        "id": "I9ulwiSe92uA"
      },
      "outputs": [],
      "source": [
        "import os\n",
        "import numpy as np\n",
        "import matplotlib.pyplot as plt\n",
        "import tensorflow as tf\n",
        "from tensorflow.keras.preprocessing.image import ImageDataGenerator\n",
        "from tensorflow.keras.models import Sequential\n",
        "from tensorflow.keras.layers import Conv2D, MaxPooling2D, Flatten, Dense\n",
        "from sklearn.metrics import classification_report, confusion_matrix\n"
      ]
    },
    {
      "cell_type": "markdown",
      "metadata": {
        "id": "yLWU80joHzjg"
      },
      "source": [
        "# Dataset and Constants Summary"
      ]
    },
    {
      "cell_type": "markdown",
      "metadata": {
        "id": "Z7hXlJNDH26w"
      },
      "source": [
        "- Dataset Path:\n",
        "The dataset is located at /content/drive/MyDrive/ERIC Robotics PSIPL/Dataset.\n",
        "\n",
        "- Image Dimensions:\n",
        "Input images are resized to dimensions of 150x150 pixels.\n",
        "\n",
        "- Batch Size:\n",
        "The batch size for training is set to 32 images per batch.\n",
        "\n",
        "- Defective and Good Image Paths:\n",
        "Separate folders for defective and good images are defined within the dataset directory.\n",
        "Paths to these folders are constructed for further data processing."
      ]
    },
    {
      "cell_type": "code",
      "execution_count": null,
      "metadata": {
        "id": "IlZOjsps9_w4"
      },
      "outputs": [],
      "source": [
        "# Path to the dataset\n",
        "dataset_path = '/content/drive/MyDrive/ERIC Robotics PSIPL/Dataset'\n",
        "\n",
        "# Image dimensions\n",
        "img_width, img_height = 150, 150\n",
        "\n",
        "# Batch size for training\n",
        "batch_size = 32\n",
        "\n",
        "# Paths to defective and good image folders\n",
        "defective_folder = 'defective'\n",
        "good_folder = 'good'\n",
        "\n",
        "defective_path = os.path.join('/content/drive/MyDrive/ERIC Robotics PSIPL/Dataset/defective', defective_folder)\n",
        "good_path = os.path.join('/content/drive/MyDrive/ERIC Robotics PSIPL/Dataset/good', good_folder)\n"
      ]
    },
    {
      "cell_type": "markdown",
      "metadata": {
        "id": "XHgG7IRlILwx"
      },
      "source": [
        "# Data Generator Configuration Summary"
      ]
    },
    {
      "cell_type": "markdown",
      "metadata": {
        "id": "h92FTdlXIPcT"
      },
      "source": [
        "- Defective and Good Image Directories:\n",
        "Paths to the directories containing defective and good images are specified.\n",
        "\n",
        "- ImageDataGenerator Configuration :\n",
        "An ImageDataGenerator object is instantiated with rescaling factor 1/255 to normalize pixel values.\n",
        "\n",
        "- Data Flow Generation :\n",
        "   ImageDataGenerator is used to generate batches of augmented image data for training.\n",
        "\n",
        "   Separate generators are created for defective and good images.\n",
        "\n",
        "- Flow from Directory :\n",
        "  flow_from_directory method is used to generate batches of images from directories.\n",
        "\n",
        "  Target size is set to (img_width, img_height) for resizing images.\n",
        "\n",
        "  Batch size is specified as 32, and class mode is set to 'binary' for binary classification."
      ]
    },
    {
      "cell_type": "code",
      "execution_count": null,
      "metadata": {
        "colab": {
          "base_uri": "https://localhost:8080/"
        },
        "id": "DXwDb73nA7Rv",
        "outputId": "fc9b6faa-2c2b-4a38-9fb3-9ecd50dcfb0c"
      },
      "outputs": [
        {
          "name": "stdout",
          "output_type": "stream",
          "text": [
            "Found 1856 images belonging to 2 classes.\n",
            "Found 1856 images belonging to 2 classes.\n"
          ]
        }
      ],
      "source": [
        "train_defective_dir = '/content/drive/MyDrive/ERIC Robotics PSIPL/Dataset'\n",
        "train_good_dir = '/content/drive/MyDrive/ERIC Robotics PSIPL/Dataset'\n",
        "\n",
        "train_datagen = ImageDataGenerator(rescale=1./255)\n",
        "\n",
        "train_defective_generator = train_datagen.flow_from_directory(\n",
        "    train_defective_dir,\n",
        "    target_size=(img_width, img_height),\n",
        "    batch_size=batch_size,\n",
        "    class_mode='binary'\n",
        ")\n",
        "\n",
        "train_good_generator = train_datagen.flow_from_directory(\n",
        "    train_good_dir,\n",
        "    target_size=(img_width, img_height),\n",
        "    batch_size=batch_size,\n",
        "    class_mode='binary'\n",
        ")\n"
      ]
    },
    {
      "cell_type": "markdown",
      "metadata": {
        "id": "Y80eq4QJJGLV"
      },
      "source": [
        "# Model Selection and Definition Summary"
      ]
    },
    {
      "cell_type": "markdown",
      "metadata": {
        "id": "-RaGYpdJJJaj"
      },
      "source": [
        "1. Importing Pre-trained Models :\n",
        "   - Pre-trained models are imported from Keras applications, including ResNet50, VGG16, InceptionV3, MobileNet, DenseNet121, and Xception.\n",
        "\n",
        "   - GlobalAveragePooling2D layer is imported to perform global average pooling for feature extraction.\n",
        "\n",
        "2.List of Models:\n",
        "A list of models to try is defined, consisting of the following:\n",
        "\n",
        " - CNN: A convolutional neural network with convolutional and pooling layers followed by dense layers for classification.\n",
        "\n",
        " - Simple Dense: A simple densely connected network without convolutional layers.\n",
        "\n",
        " - Pre-trained Models: ResNet50, VGG16, InceptionV3, MobileNet, DenseNet121, and Xception, with their respective architectures and weights initialized randomly.\n",
        "\n",
        "3.Model Architecture:\n",
        "  - Each model is defined as a Sequential model, with layers stacked linearly.\n",
        "\n",
        "  - For pre-trained models, the base model is followed by a GlobalAveragePooling2D layer to reduce spatial dimensions and a Dense layer with sigmoid activation for binary classification."
      ]
    },
    {
      "cell_type": "code",
      "execution_count": null,
      "metadata": {
        "id": "LuPjgn39rvja"
      },
      "outputs": [],
      "source": [
        "from keras.applications import ResNet50, VGG16, InceptionV3, MobileNet, DenseNet121, Xception\n",
        "from keras.layers import GlobalAveragePooling2D\n",
        "\n",
        "# Define a list of models to try\n",
        "models = [\n",
        "    ('CNN', Sequential([\n",
        "        Conv2D(32, (3, 3), activation='relu', input_shape=(img_width, img_height, 3)),\n",
        "        MaxPooling2D((2, 2)),\n",
        "        Conv2D(64, (3, 3), activation='relu'),\n",
        "        MaxPooling2D((2, 2)),\n",
        "        Conv2D(128, (3, 3), activation='relu'),\n",
        "        MaxPooling2D((2, 2)),\n",
        "        Flatten(),\n",
        "        Dense(64, activation='relu'),\n",
        "        Dense(1, activation='sigmoid')\n",
        "    ])),\n",
        "    ('Simple Dense', Sequential([\n",
        "        Flatten(input_shape=(img_width, img_height, 3)),\n",
        "        Dense(128, activation='relu'),\n",
        "        Dense(64, activation='relu'),\n",
        "        Dense(1, activation='sigmoid')\n",
        "    ])),\n",
        "    ('ResNet50', Sequential([\n",
        "        ResNet50(include_top=False, weights=None, input_shape=(img_width, img_height, 3)),\n",
        "        GlobalAveragePooling2D(),\n",
        "        Dense(1, activation='sigmoid')\n",
        "    ])),\n",
        "    ('VGG16', Sequential([\n",
        "        VGG16(include_top=False, weights=None, input_shape=(img_width, img_height, 3)),\n",
        "        GlobalAveragePooling2D(),\n",
        "        Dense(1, activation='sigmoid')\n",
        "    ])),\n",
        "    ('InceptionV3', Sequential([\n",
        "        InceptionV3(include_top=False, weights=None, input_shape=(img_width, img_height, 3)),\n",
        "        GlobalAveragePooling2D(),\n",
        "        Dense(1, activation='sigmoid')\n",
        "    ])),\n",
        "    ('MobileNet', Sequential([\n",
        "        MobileNet(include_top=False, weights=None, input_shape=(img_width, img_height, 3)),\n",
        "        GlobalAveragePooling2D(),\n",
        "        Dense(1, activation='sigmoid')\n",
        "    ])),\n",
        "    ('DenseNet121', Sequential([\n",
        "        DenseNet121(include_top=False, weights=None, input_shape=(img_width, img_height, 3)),\n",
        "        GlobalAveragePooling2D(),\n",
        "        Dense(1, activation='sigmoid')\n",
        "    ])),\n",
        "    ('Xception', Sequential([\n",
        "        Xception(include_top=False, weights=None, input_shape=(img_width, img_height, 3)),\n",
        "        GlobalAveragePooling2D(),\n",
        "        Dense(1, activation='sigmoid')\n",
        "    ]))\n",
        "]\n"
      ]
    },
    {
      "cell_type": "markdown",
      "metadata": {
        "id": "b_CoQ66pKoA-"
      },
      "source": [
        "# Model Training and Evaluation Summary"
      ]
    },
    {
      "cell_type": "markdown",
      "metadata": {
        "id": "V_B7iVULKsA9"
      },
      "source": [
        "Training and Evaluation Loop :\n",
        "  - A loop is implemented to train and evaluate each model from the list.\n",
        "  - Model name and architecture are printed for identification.\n",
        "  - Each model is compiled with the Adam optimizer, binary cross-entropy loss, and accuracy metric.\n",
        "\n",
        "Training Process:\n",
        "  - For custom CNN and Simple Dense models, respective data generators for defective and good images are used for training.\n",
        "  - For pre-trained models, a combined data generator (train_generator) containing both defective and good images is utilized.\n",
        "  - Models are trained for 10 epochs with verbose set to 0 to suppress training progress output.\n",
        "\n",
        "Accuracy Comparison:\n",
        "  - Training accuracy for each model is plotted against epochs for visual comparison.\n",
        "  - The accuracy trend provides insights into model performance and convergence.\n",
        "\n",
        "Visualization:\n",
        "  - The plot displays the comparison of training accuracy across different models.\n",
        "  - Models can be evaluated based on their accuracy trends to identify potential candidates for further analysis or deployment."
      ]
    },
    {
      "cell_type": "code",
      "execution_count": null,
      "metadata": {
        "colab": {
          "background_save": true,
          "base_uri": "https://localhost:8080/"
        },
        "id": "eW3Jn0TQCj5l",
        "outputId": "a9fab4ec-80bb-422b-92dd-86a828b1f8b8"
      },
      "outputs": [
        {
          "name": "stdout",
          "output_type": "stream",
          "text": [
            "Training CNN model...\n",
            "Training Simple Dense model...\n",
            "Training ResNet50 model...\n"
          ]
        },
        {
          "name": "stderr",
          "output_type": "stream",
          "text": [
            "WARNING:tensorflow:Your input ran out of data; interrupting training. Make sure that your dataset or generator can generate at least `steps_per_epoch * epochs` batches (in this case, 1160 batches). You may need to use the repeat() function when building your dataset.\n"
          ]
        },
        {
          "name": "stdout",
          "output_type": "stream",
          "text": [
            "Training VGG16 model...\n"
          ]
        },
        {
          "name": "stderr",
          "output_type": "stream",
          "text": [
            "WARNING:tensorflow:Your input ran out of data; interrupting training. Make sure that your dataset or generator can generate at least `steps_per_epoch * epochs` batches (in this case, 1160 batches). You may need to use the repeat() function when building your dataset.\n"
          ]
        },
        {
          "name": "stdout",
          "output_type": "stream",
          "text": [
            "Training InceptionV3 model...\n"
          ]
        },
        {
          "name": "stderr",
          "output_type": "stream",
          "text": [
            "WARNING:tensorflow:Your input ran out of data; interrupting training. Make sure that your dataset or generator can generate at least `steps_per_epoch * epochs` batches (in this case, 1160 batches). You may need to use the repeat() function when building your dataset.\n"
          ]
        },
        {
          "name": "stdout",
          "output_type": "stream",
          "text": [
            "Training MobileNet model...\n"
          ]
        },
        {
          "name": "stderr",
          "output_type": "stream",
          "text": [
            "WARNING:tensorflow:Your input ran out of data; interrupting training. Make sure that your dataset or generator can generate at least `steps_per_epoch * epochs` batches (in this case, 1160 batches). You may need to use the repeat() function when building your dataset.\n"
          ]
        },
        {
          "name": "stdout",
          "output_type": "stream",
          "text": [
            "Training DenseNet121 model...\n"
          ]
        },
        {
          "name": "stderr",
          "output_type": "stream",
          "text": [
            "WARNING:tensorflow:Your input ran out of data; interrupting training. Make sure that your dataset or generator can generate at least `steps_per_epoch * epochs` batches (in this case, 1160 batches). You may need to use the repeat() function when building your dataset.\n"
          ]
        },
        {
          "name": "stdout",
          "output_type": "stream",
          "text": [
            "Training Xception model...\n"
          ]
        },
        {
          "name": "stderr",
          "output_type": "stream",
          "text": [
            "WARNING:tensorflow:Your input ran out of data; interrupting training. Make sure that your dataset or generator can generate at least `steps_per_epoch * epochs` batches (in this case, 1160 batches). You may need to use the repeat() function when building your dataset.\n"
          ]
        },
        {
          "data": {
            "image/png": "[encoded data removed]",
            "text/plain": [
              "<Figure size 640x480 with 1 Axes>"
            ]
          },
          "metadata": {},
          "output_type": "display_data"
        }
      ],
      "source": [
        "# Train and evaluate each model\n",
        "for name, model in models:\n",
        "    print(f\"Training {name} model...\")\n",
        "    model.compile(optimizer='adam',\n",
        "                  loss='binary_crossentropy',\n",
        "                  metrics=['accuracy'])\n",
        "\n",
        "    # Train the model using the respective data generator\n",
        "    if name == 'CNN':\n",
        "        history = model.fit(\n",
        "            train_defective_generator,\n",
        "            steps_per_epoch=train_defective_generator.samples // batch_size,\n",
        "            epochs=10,\n",
        "            verbose=0)\n",
        "    elif name == 'Simple Dense':\n",
        "        history = model.fit(\n",
        "            train_good_generator,\n",
        "            steps_per_epoch=train_good_generator.samples // batch_size,\n",
        "            epochs=10,\n",
        "            verbose=0)\n",
        "    else:\n",
        "        # For pre-trained models, use both defective and good generators combined\n",
        "        history = model.fit(\n",
        "            train_defective_generator,  # Combined generator for both defective and good images\n",
        "            steps_per_epoch=(train_defective_generator.samples + train_good_generator.samples) // batch_size,\n",
        "            epochs=10,\n",
        "            verbose=0)\n",
        "\n",
        "    # Plot training accuracy\n",
        "    plt.plot(history.history['accuracy'], label=name)\n",
        "\n",
        "plt.title('Model Accuracy Comparison')\n",
        "plt.ylabel('Accuracy')\n",
        "plt.xlabel('Epoch')\n",
        "plt.legend()\n",
        "plt.show()"
      ]
    },
    {
      "cell_type": "code",
      "execution_count": null,
      "metadata": {
        "colab": {
          "base_uri": "https://localhost:8080/",
          "height": 300
        },
        "id": "-vzoLLVpXphc",
        "outputId": "4b0df6ed-b34d-434d-f3a2-98aad2160923"
      },
      "outputs": [
        {
          "name": "stdout",
          "output_type": "stream",
          "text": [
            "Found 1856 images belonging to 2 classes.\n",
            "Found 1856 images belonging to 2 classes.\n",
            "Found 1856 images belonging to 2 classes.\n"
          ]
        },
        {
          "name": "stderr",
          "output_type": "stream",
          "text": [
            "WARNING:tensorflow:Your input ran out of data; interrupting training. Make sure that your dataset or generator can generate at least `steps_per_epoch * epochs` batches (in this case, 1160 batches). You may need to use the repeat() function when building your dataset.\n"
          ]
        },
        {
          "ename": "NameError",
          "evalue": "name 'train_data' is not defined",
          "output_type": "error",
          "traceback": [
            "\u001b[0;31m---------------------------------------------------------------------------\u001b[0m",
            "\u001b[0;31mNameError\u001b[0m                                 Traceback (most recent call last)",
            "\u001b[0;32m<ipython-input-13-a07e0dbe3e71>\u001b[0m in \u001b[0;36m<cell line: 31>\u001b[0;34m()\u001b[0m\n\u001b[1;32m     29\u001b[0m )\n\u001b[1;32m     30\u001b[0m \u001b[0;31m# Define and create a TensorFlow dataset\u001b[0m\u001b[0;34m\u001b[0m\u001b[0;34m\u001b[0m\u001b[0m\n\u001b[0;32m---> 31\u001b[0;31m \u001b[0mtrain_dataset\u001b[0m \u001b[0;34m=\u001b[0m \u001b[0mtf\u001b[0m\u001b[0;34m.\u001b[0m\u001b[0mdata\u001b[0m\u001b[0;34m.\u001b[0m\u001b[0mDataset\u001b[0m\u001b[0;34m.\u001b[0m\u001b[0mfrom_tensor_slices\u001b[0m\u001b[0;34m(\u001b[0m\u001b[0;34m(\u001b[0m\u001b[0mtrain_data\u001b[0m\u001b[0;34m,\u001b[0m \u001b[0mtrain_labels\u001b[0m\u001b[0;34m)\u001b[0m\u001b[0;34m)\u001b[0m\u001b[0;34m\u001b[0m\u001b[0;34m\u001b[0m\u001b[0m\n\u001b[0m\u001b[1;32m     32\u001b[0m \u001b[0mtrain_dataset\u001b[0m \u001b[0;34m=\u001b[0m \u001b[0mtrain_dataset\u001b[0m\u001b[0;34m.\u001b[0m\u001b[0mshuffle\u001b[0m\u001b[0;34m(\u001b[0m\u001b[0mbuffer_size\u001b[0m\u001b[0;34m=\u001b[0m\u001b[0;36m10000\u001b[0m\u001b[0;34m)\u001b[0m  \u001b[0;31m# Shuffle the dataset\u001b[0m\u001b[0;34m\u001b[0m\u001b[0;34m\u001b[0m\u001b[0m\n\u001b[1;32m     33\u001b[0m \u001b[0mtrain_dataset\u001b[0m \u001b[0;34m=\u001b[0m \u001b[0mtrain_dataset\u001b[0m\u001b[0;34m.\u001b[0m\u001b[0mbatch\u001b[0m\u001b[0;34m(\u001b[0m\u001b[0mbatch_size\u001b[0m\u001b[0;34m)\u001b[0m  \u001b[0;31m# Batch the dataset\u001b[0m\u001b[0;34m\u001b[0m\u001b[0;34m\u001b[0m\u001b[0m\n",
            "\u001b[0;31mNameError\u001b[0m: name 'train_data' is not defined"
          ]
        }
      ],
      "source": [
        "# Define data generators for defective and good images separately\n",
        "train_defective_generator = train_datagen.flow_from_directory(\n",
        "    '/content/drive/MyDrive/ERIC Robotics PSIPL/Dataset',\n",
        "    target_size=(img_width, img_height),\n",
        "    batch_size=batch_size,\n",
        "    class_mode='binary'\n",
        ")\n",
        "\n",
        "train_good_generator = train_datagen.flow_from_directory(\n",
        "    '/content/drive/MyDrive/ERIC Robotics PSIPL/Dataset',\n",
        "    target_size=(img_width, img_height),\n",
        "    batch_size=batch_size,\n",
        "    class_mode='binary'\n",
        ")\n",
        "# Define combined data generator for both defective and good images\n",
        "train_generator = train_datagen.flow_from_directory(\n",
        "    dataset_path,\n",
        "    target_size=(img_width, img_height),\n",
        "    batch_size=batch_size,\n",
        "    class_mode='binary'\n",
        ")\n",
        "\n",
        "# For pre-trained models, combine both defective and good generators\n",
        "history = model.fit(\n",
        "    train_generator,\n",
        "    steps_per_epoch=(train_defective_generator.samples + train_good_generator.samples) // batch_size,\n",
        "    epochs=10,\n",
        "    verbose=0\n",
        ")\n",
        "# Define and create a TensorFlow dataset\n",
        "train_dataset = tf.data.Dataset.from_tensor_slices((train_data, train_labels))\n",
        "train_dataset = train_dataset.shuffle(buffer_size=10000)  # Shuffle the dataset\n",
        "train_dataset = train_dataset.batch(batch_size)  # Batch the dataset\n",
        "\n",
        "# Apply repeat() function to repeat the dataset indefinitely\n",
        "train_dataset = train_dataset.repeat()\n",
        "\n",
        "# Train the model using the dataset\n",
        "model.fit(train_dataset, steps_per_epoch=steps_per_epoch, epochs=epochs)\n",
        "\n",
        "\n",
        "\n"
      ]
    },
    {
      "cell_type": "markdown",
      "metadata": {
        "id": "3ljeE-FpNHms"
      },
      "source": [
        "# Updated Model Evaluation Summary"
      ]
    },
    {
      "cell_type": "markdown",
      "metadata": {
        "id": "E-dmjMNENJyd"
      },
      "source": [
        "Evaluation Process:\n",
        " - Each model, including custom CNN, Simple Dense, and pretrained models, is evaluated on the test data to assess its performance.\n",
        " - Defective test data is used for custom CNN and Simple Dense models, while good test data is used for pretrained models.\n",
        "\n",
        "Metrics Calculation:\n",
        " - Classification report is generated for each model, providing precision, recall, and F1-score for each class.\n",
        " - Confusion matrix is computed to visualize the model's performance in class predictions.\n",
        " - Accuracy score is calculated to quantify the overall correctness of the model's predictions.\n",
        "\n",
        "Best Model Selection:\n",
        " - The model with the highest accuracy on the test data is identified as the best model.\n",
        " - Best model and its corresponding accuracy are printed for reference."
      ]
    },
    {
      "cell_type": "code",
      "execution_count": null,
      "metadata": {
        "colab": {
          "base_uri": "https://localhost:8080/"
        },
        "id": "kAak8FtD-J6t",
        "outputId": "9902c8a9-d445-47eb-8113-30073c0fcd5b"
      },
      "outputs": [
        {
          "name": "stdout",
          "output_type": "stream",
          "text": [
            "Found 1856 images belonging to 2 classes.\n",
            "Found 1856 images belonging to 2 classes.\n",
            "Evaluating CNN model...\n",
            "58/58 [==============================] - 122s 2s/step\n",
            "Classification Report for CNN model:\n",
            "              precision    recall  f1-score   support\n",
            "\n",
            "           0       0.74      0.99      0.85      1028\n",
            "           1       0.99      0.56      0.71       828\n",
            "\n",
            "    accuracy                           0.80      1856\n",
            "   macro avg       0.86      0.78      0.78      1856\n",
            "weighted avg       0.85      0.80      0.79      1856\n",
            "\n",
            "Confusion Matrix:\n",
            "[[1022    6]\n",
            " [ 366  462]]\n",
            "Accuracy for CNN model: 0.7995689655172413\n",
            "Evaluating Simple Dense model...\n",
            "58/58 [==============================] - 100s 2s/step\n",
            "Classification Report for Simple Dense model:\n",
            "              precision    recall  f1-score   support\n",
            "\n",
            "           0       0.89      0.42      0.57      1028\n",
            "           1       0.56      0.94      0.70       828\n",
            "\n",
            "    accuracy                           0.65      1856\n",
            "   macro avg       0.73      0.68      0.64      1856\n",
            "weighted avg       0.74      0.65      0.63      1856\n",
            "\n",
            "Confusion Matrix:\n",
            "[[428 600]\n",
            " [ 53 775]]\n",
            "Accuracy for Simple Dense model: 0.6481681034482759\n",
            "Evaluating ResNet50 model...\n",
            "58/58 [==============================] - 215s 4s/step\n",
            "Classification Report for ResNet50 model:\n",
            "              precision    recall  f1-score   support\n",
            "\n",
            "           0       0.27      0.00      0.01      1028\n",
            "           1       0.44      0.99      0.61       828\n",
            "\n",
            "    accuracy                           0.44      1856\n",
            "   macro avg       0.36      0.50      0.31      1856\n",
            "weighted avg       0.35      0.44      0.28      1856\n",
            "\n",
            "Confusion Matrix:\n",
            "[[   4 1024]\n",
            " [  11  817]]\n",
            "Accuracy for ResNet50 model: 0.4423491379310345\n",
            "Evaluating VGG16 model...\n",
            "58/58 [==============================] - 509s 9s/step\n",
            "Classification Report for VGG16 model:\n",
            "              precision    recall  f1-score   support\n",
            "\n",
            "           0       0.55      1.00      0.71      1028\n",
            "           1       0.00      0.00      0.00       828\n",
            "\n",
            "    accuracy                           0.55      1856\n",
            "   macro avg       0.28      0.50      0.36      1856\n",
            "weighted avg       0.31      0.55      0.39      1856\n",
            "\n",
            "Confusion Matrix:\n",
            "[[1028    0]\n",
            " [ 828    0]]\n",
            "Accuracy for VGG16 model: 0.5538793103448276\n",
            "Evaluating InceptionV3 model...\n"
          ]
        },
        {
          "name": "stderr",
          "output_type": "stream",
          "text": [
            "/usr/local/lib/python3.10/dist-packages/sklearn/metrics/_classification.py:1344: UndefinedMetricWarning: Precision and F-score are ill-defined and being set to 0.0 in labels with no predicted samples. Use `zero_division` parameter to control this behavior.\n",
            "  _warn_prf(average, modifier, msg_start, len(result))\n",
            "/usr/local/lib/python3.10/dist-packages/sklearn/metrics/_classification.py:1344: UndefinedMetricWarning: Precision and F-score are ill-defined and being set to 0.0 in labels with no predicted samples. Use `zero_division` parameter to control this behavior.\n",
            "  _warn_prf(average, modifier, msg_start, len(result))\n",
            "/usr/local/lib/python3.10/dist-packages/sklearn/metrics/_classification.py:1344: UndefinedMetricWarning: Precision and F-score are ill-defined and being set to 0.0 in labels with no predicted samples. Use `zero_division` parameter to control this behavior.\n",
            "  _warn_prf(average, modifier, msg_start, len(result))\n"
          ]
        },
        {
          "name": "stdout",
          "output_type": "stream",
          "text": [
            "58/58 [==============================] - 167s 3s/step\n",
            "Classification Report for InceptionV3 model:\n",
            "              precision    recall  f1-score   support\n",
            "\n",
            "           0       0.55      1.00      0.71      1028\n",
            "           1       0.00      0.00      0.00       828\n",
            "\n",
            "    accuracy                           0.55      1856\n",
            "   macro avg       0.28      0.50      0.36      1856\n",
            "weighted avg       0.31      0.55      0.39      1856\n",
            "\n",
            "Confusion Matrix:\n",
            "[[1028    0]\n",
            " [ 828    0]]\n",
            "Accuracy for InceptionV3 model: 0.5538793103448276\n",
            "Evaluating MobileNet model...\n"
          ]
        },
        {
          "name": "stderr",
          "output_type": "stream",
          "text": [
            "/usr/local/lib/python3.10/dist-packages/sklearn/metrics/_classification.py:1344: UndefinedMetricWarning: Precision and F-score are ill-defined and being set to 0.0 in labels with no predicted samples. Use `zero_division` parameter to control this behavior.\n",
            "  _warn_prf(average, modifier, msg_start, len(result))\n",
            "/usr/local/lib/python3.10/dist-packages/sklearn/metrics/_classification.py:1344: UndefinedMetricWarning: Precision and F-score are ill-defined and being set to 0.0 in labels with no predicted samples. Use `zero_division` parameter to control this behavior.\n",
            "  _warn_prf(average, modifier, msg_start, len(result))\n",
            "/usr/local/lib/python3.10/dist-packages/sklearn/metrics/_classification.py:1344: UndefinedMetricWarning: Precision and F-score are ill-defined and being set to 0.0 in labels with no predicted samples. Use `zero_division` parameter to control this behavior.\n",
            "  _warn_prf(average, modifier, msg_start, len(result))\n"
          ]
        },
        {
          "name": "stdout",
          "output_type": "stream",
          "text": [
            "58/58 [==============================] - 119s 2s/step\n",
            "Classification Report for MobileNet model:\n",
            "              precision    recall  f1-score   support\n",
            "\n",
            "           0       0.55      1.00      0.71      1028\n",
            "           1       0.00      0.00      0.00       828\n",
            "\n",
            "    accuracy                           0.55      1856\n",
            "   macro avg       0.28      0.50      0.36      1856\n",
            "weighted avg       0.31      0.55      0.39      1856\n",
            "\n",
            "Confusion Matrix:\n",
            "[[1028    0]\n",
            " [ 828    0]]\n",
            "Accuracy for MobileNet model: 0.5538793103448276\n",
            "Evaluating DenseNet121 model...\n"
          ]
        },
        {
          "name": "stderr",
          "output_type": "stream",
          "text": [
            "/usr/local/lib/python3.10/dist-packages/sklearn/metrics/_classification.py:1344: UndefinedMetricWarning: Precision and F-score are ill-defined and being set to 0.0 in labels with no predicted samples. Use `zero_division` parameter to control this behavior.\n",
            "  _warn_prf(average, modifier, msg_start, len(result))\n",
            "/usr/local/lib/python3.10/dist-packages/sklearn/metrics/_classification.py:1344: UndefinedMetricWarning: Precision and F-score are ill-defined and being set to 0.0 in labels with no predicted samples. Use `zero_division` parameter to control this behavior.\n",
            "  _warn_prf(average, modifier, msg_start, len(result))\n",
            "/usr/local/lib/python3.10/dist-packages/sklearn/metrics/_classification.py:1344: UndefinedMetricWarning: Precision and F-score are ill-defined and being set to 0.0 in labels with no predicted samples. Use `zero_division` parameter to control this behavior.\n",
            "  _warn_prf(average, modifier, msg_start, len(result))\n"
          ]
        },
        {
          "name": "stdout",
          "output_type": "stream",
          "text": [
            "58/58 [==============================] - 189s 3s/step\n",
            "Classification Report for DenseNet121 model:\n",
            "              precision    recall  f1-score   support\n",
            "\n",
            "           0       0.55      1.00      0.71      1028\n",
            "           1       0.00      0.00      0.00       828\n",
            "\n",
            "    accuracy                           0.55      1856\n",
            "   macro avg       0.28      0.50      0.36      1856\n",
            "weighted avg       0.31      0.55      0.39      1856\n",
            "\n",
            "Confusion Matrix:\n",
            "[[1028    0]\n",
            " [ 828    0]]\n",
            "Accuracy for DenseNet121 model: 0.5538793103448276\n",
            "Evaluating Xception model...\n"
          ]
        },
        {
          "name": "stderr",
          "output_type": "stream",
          "text": [
            "/usr/local/lib/python3.10/dist-packages/sklearn/metrics/_classification.py:1344: UndefinedMetricWarning: Precision and F-score are ill-defined and being set to 0.0 in labels with no predicted samples. Use `zero_division` parameter to control this behavior.\n",
            "  _warn_prf(average, modifier, msg_start, len(result))\n",
            "/usr/local/lib/python3.10/dist-packages/sklearn/metrics/_classification.py:1344: UndefinedMetricWarning: Precision and F-score are ill-defined and being set to 0.0 in labels with no predicted samples. Use `zero_division` parameter to control this behavior.\n",
            "  _warn_prf(average, modifier, msg_start, len(result))\n",
            "/usr/local/lib/python3.10/dist-packages/sklearn/metrics/_classification.py:1344: UndefinedMetricWarning: Precision and F-score are ill-defined and being set to 0.0 in labels with no predicted samples. Use `zero_division` parameter to control this behavior.\n",
            "  _warn_prf(average, modifier, msg_start, len(result))\n"
          ]
        },
        {
          "name": "stdout",
          "output_type": "stream",
          "text": [
            "58/58 [==============================] - 227s 4s/step\n",
            "Classification Report for Xception model:\n",
            "              precision    recall  f1-score   support\n",
            "\n",
            "           0       0.57      0.54      0.55      1028\n",
            "           1       0.46      0.49      0.48       828\n",
            "\n",
            "    accuracy                           0.52      1856\n",
            "   macro avg       0.51      0.51      0.51      1856\n",
            "weighted avg       0.52      0.52      0.52      1856\n",
            "\n",
            "Confusion Matrix:\n",
            "[[551 477]\n",
            " [420 408]]\n",
            "Accuracy for Xception model: 0.5167025862068966\n",
            "Best model: <keras.src.engine.sequential.Sequential object at 0x7932ed4728f0>, Accuracy: 0.7995689655172413\n"
          ]
        }
      ],
      "source": [
        "from sklearn.metrics import confusion_matrix, classification_report, accuracy_score\n",
        "\n",
        "# Initialize variables to track the best model and its accuracy\n",
        "best_accuracy = 0\n",
        "best_model = None\n",
        "\n",
        "# Define test data generators\n",
        "test_defective_generator = train_datagen.flow_from_directory(\n",
        "    '/content/drive/MyDrive/ERIC Robotics PSIPL/Dataset',\n",
        "    target_size=(img_width, img_height),\n",
        "    batch_size=batch_size,\n",
        "    class_mode='binary',\n",
        "    shuffle=False  # Disable shuffling to keep the order of predictions consistent\n",
        ")\n",
        "\n",
        "test_good_generator = train_datagen.flow_from_directory(\n",
        "    '/content/drive/MyDrive/ERIC Robotics PSIPL/Dataset',\n",
        "    target_size=(img_width, img_height),\n",
        "    batch_size=batch_size,\n",
        "    class_mode='binary',\n",
        "    shuffle=False  # Disable shuffling to keep the order of predictions consistent\n",
        ")\n",
        "\n",
        "# Check if the directories contain images\n",
        "if test_defective_generator.samples == 0 or test_good_generator.samples == 0:\n",
        "    print(\"Error: No images found in the test directories.\")\n",
        "else:\n",
        "    # Evaluate each model on test data\n",
        "    for name, model in models:\n",
        "        print(f\"Evaluating {name} model...\")\n",
        "\n",
        "        # For custom CNN and Simple Dense models, use defective test data\n",
        "        if name == 'CNN' or name == 'Simple Dense':\n",
        "            test_generator = test_defective_generator\n",
        "        else:\n",
        "            # For pretrained models, use good test data\n",
        "            test_generator = test_good_generator\n",
        "\n",
        "        # Check if the generator has data\n",
        "        if test_generator.samples > 0:\n",
        "            predictions = model.predict(test_generator)\n",
        "            y_true = test_generator.classes\n",
        "            y_pred = np.round(predictions)\n",
        "\n",
        "            # Print classification report\n",
        "            print(f\"Classification Report for {name} model:\")\n",
        "            print(classification_report(y_true, y_pred))\n",
        "\n",
        "            # Calculate confusion matrix\n",
        "            conf_matrix = confusion_matrix(y_true, y_pred)\n",
        "            print(\"Confusion Matrix:\")\n",
        "            print(conf_matrix)\n",
        "\n",
        "            # Calculate accuracy\n",
        "            accuracy = accuracy_score(y_true, y_pred)\n",
        "            print(f\"Accuracy for {name} model: {accuracy}\")\n",
        "\n",
        "            # Update best model if current model has higher accuracy\n",
        "            if accuracy > best_accuracy:\n",
        "                best_accuracy = accuracy\n",
        "                best_model = model\n",
        "\n",
        "        else:\n",
        "            print(\"Error: Test generator has no data.\")\n",
        "\n",
        "    print(f\"Best model: {best_model}, Accuracy: {best_accuracy}\")\n"
      ]
    },
    {
      "cell_type": "markdown",
      "metadata": {
        "id": "QbQBUixauUD9"
      },
      "source": [
        "- CNN Model: Achieved the highest accuracy of 0.7996. It performed reasonably well, with good precision and recall for both classes.\n",
        "- Simple Dense Model: Achieved an accuracy of 0.6482. It exhibited a lower performance compared to the CNN model.\n",
        "- Pre-trained Models (ResNet50, VGG16, InceptionV3, MobileNet, DenseNet121, Xception): These models yielded accuracies around 0.55, indicating poor performance. They struggled to classify the data effectively, as seen in the precision, recall, and F1-score metrics, along with the confusion matrices.\n",
        "- In summary, the CNN model outperformed the others, demonstrating the highest accuracy and better classification performance.\n",
        "\n",
        "\n",
        "\n",
        "\n",
        "\n"
      ]
    }
  ],
  "metadata": {
    "colab": {
      "provenance": []
    },
    "kernelspec": {
      "display_name": "Python 3",
      "name": "python3"
    },
    "language_info": {
      "name": "python"
    }
  },
  "nbformat": 4,
  "nbformat_minor": 0
}